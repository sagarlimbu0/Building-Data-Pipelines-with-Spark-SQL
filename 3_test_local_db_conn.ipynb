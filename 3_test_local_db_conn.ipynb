{
 "cells": [
  {
   "cell_type": "markdown",
   "metadata": {},
   "source": [
    "#### Objective:\n",
    "- Test the connection with SQL server"
   ]
  },
  {
   "cell_type": "code",
   "execution_count": 1,
   "metadata": {},
   "outputs": [],
   "source": [
    "import numpy as np\n",
    "import pandas as pd\n",
    "import pyodbc\n"
   ]
  },
  {
   "cell_type": "code",
   "execution_count": 11,
   "metadata": {},
   "outputs": [],
   "source": [
    "## establish conn\n",
    "conn_string= (\n",
    "    r'DRIVER={ODBC Driver 17 for SQL Server};'\n",
    "    r'SERVER=(localdb)\\localdb1;'\n",
    "    r'DATABASE=AdventureWorks2019;'\n",
    "    r'Trusted_Connection=yes;'\n",
    ")"
   ]
  },
  {
   "cell_type": "code",
   "execution_count": 12,
   "metadata": {},
   "outputs": [],
   "source": [
    "conn= pyodbc.connect(conn_string)"
   ]
  },
  {
   "cell_type": "code",
   "execution_count": 13,
   "metadata": {},
   "outputs": [],
   "source": [
    "## perform query on the database\n",
    "cursor= conn.cursor()"
   ]
  },
  {
   "cell_type": "code",
   "execution_count": 14,
   "metadata": {},
   "outputs": [
    {
     "data": {
      "text/plain": [
       "<pyodbc.Cursor at 0x20618212930>"
      ]
     },
     "execution_count": 14,
     "metadata": {},
     "output_type": "execute_result"
    }
   ],
   "source": [
    "cursor.execute(\"SELECT CurrencyCode, Name, ModifiedDate FROM AdventureWorks2019.Sales.Currency\")"
   ]
  },
  {
   "cell_type": "code",
   "execution_count": 15,
   "metadata": {},
   "outputs": [],
   "source": [
    "rows= cursor.fetchall()"
   ]
  },
  {
   "cell_type": "code",
   "execution_count": 16,
   "metadata": {},
   "outputs": [
    {
     "name": "stdout",
     "output_type": "stream",
     "text": [
      "('AED', 'Emirati Dirham', datetime.datetime(2008, 4, 30, 0, 0))\n",
      "('AFA', 'Afghani', datetime.datetime(2008, 4, 30, 0, 0))\n",
      "('ALL', 'Lek', datetime.datetime(2008, 4, 30, 0, 0))\n",
      "('AMD', 'Armenian Dram', datetime.datetime(2008, 4, 30, 0, 0))\n",
      "('ANG', 'Netherlands Antillian Guilder', datetime.datetime(2008, 4, 30, 0, 0))\n",
      "('AOA', 'Kwanza', datetime.datetime(2008, 4, 30, 0, 0))\n",
      "('ARS', 'Argentine Peso', datetime.datetime(2008, 4, 30, 0, 0))\n",
      "('ATS', 'Shilling', datetime.datetime(2008, 4, 30, 0, 0))\n",
      "('AUD', 'Australian Dollar', datetime.datetime(2008, 4, 30, 0, 0))\n",
      "('AWG', 'Aruban Guilder', datetime.datetime(2008, 4, 30, 0, 0))\n",
      "('AZM', 'Azerbaijanian Manat', datetime.datetime(2008, 4, 30, 0, 0))\n",
      "('BBD', 'Barbados Dollar', datetime.datetime(2008, 4, 30, 0, 0))\n",
      "('BDT', 'Taka', datetime.datetime(2008, 4, 30, 0, 0))\n",
      "('BEF', 'Belgian Franc', datetime.datetime(2008, 4, 30, 0, 0))\n",
      "('BGN', 'Bulgarian Lev', datetime.datetime(2008, 4, 30, 0, 0))\n",
      "('BHD', 'Bahraini Dinar', datetime.datetime(2008, 4, 30, 0, 0))\n",
      "('BND', 'Brunei Dollar', datetime.datetime(2008, 4, 30, 0, 0))\n",
      "('BOB', 'Boliviano', datetime.datetime(2008, 4, 30, 0, 0))\n",
      "('BRL', 'Brazilian Real', datetime.datetime(2008, 4, 30, 0, 0))\n",
      "('BSD', 'Bahamian Dollar', datetime.datetime(2008, 4, 30, 0, 0))\n",
      "('BTN', 'Ngultrum', datetime.datetime(2008, 4, 30, 0, 0))\n",
      "('CAD', 'Canadian Dollar', datetime.datetime(2008, 4, 30, 0, 0))\n",
      "('CHF', 'Swiss Franc', datetime.datetime(2008, 4, 30, 0, 0))\n",
      "('CLP', 'Chilean Peso', datetime.datetime(2008, 4, 30, 0, 0))\n",
      "('CNY', 'Yuan Renminbi', datetime.datetime(2008, 4, 30, 0, 0))\n",
      "('COP', 'Colombian Peso', datetime.datetime(2008, 4, 30, 0, 0))\n",
      "('CRC', 'Costa Rican Colon', datetime.datetime(2008, 4, 30, 0, 0))\n",
      "('CYP', 'Cyprus Pound', datetime.datetime(2008, 4, 30, 0, 0))\n",
      "('CZK', 'Czech Koruna', datetime.datetime(2008, 4, 30, 0, 0))\n",
      "('DEM', 'Deutsche Mark', datetime.datetime(2008, 4, 30, 0, 0))\n",
      "('DKK', 'Danish Krone', datetime.datetime(2008, 4, 30, 0, 0))\n",
      "('DOP', 'Dominican Peso', datetime.datetime(2008, 4, 30, 0, 0))\n",
      "('DZD', 'Algerian Dinar', datetime.datetime(2008, 4, 30, 0, 0))\n",
      "('EEK', 'Kroon', datetime.datetime(2008, 4, 30, 0, 0))\n",
      "('EGP', 'Egyptian Pound', datetime.datetime(2008, 4, 30, 0, 0))\n",
      "('ESP', 'Spanish Peseta', datetime.datetime(2008, 4, 30, 0, 0))\n",
      "('EUR', 'EURO', datetime.datetime(2008, 4, 30, 0, 0))\n",
      "('FIM', 'Markka', datetime.datetime(2008, 4, 30, 0, 0))\n",
      "('FJD', 'Fiji Dollar', datetime.datetime(2008, 4, 30, 0, 0))\n",
      "('FRF', 'French Franc', datetime.datetime(2008, 4, 30, 0, 0))\n",
      "('GBP', 'United Kingdom Pound', datetime.datetime(2008, 4, 30, 0, 0))\n",
      "('GHC', 'Cedi', datetime.datetime(2008, 4, 30, 0, 0))\n",
      "('GRD', 'Drachma', datetime.datetime(2008, 4, 30, 0, 0))\n",
      "('GTQ', 'Quetzal', datetime.datetime(2008, 4, 30, 0, 0))\n",
      "('HKD', 'Hong Kong Dollar', datetime.datetime(2008, 4, 30, 0, 0))\n",
      "('HRK', 'Croatian Kuna', datetime.datetime(2008, 4, 30, 0, 0))\n",
      "('HUF', 'Forint', datetime.datetime(2008, 4, 30, 0, 0))\n",
      "('IDR', 'Rupiah', datetime.datetime(2008, 4, 30, 0, 0))\n",
      "('IEP', 'Irish Pound', datetime.datetime(2008, 4, 30, 0, 0))\n",
      "('ILS', 'New Israeli Shekel', datetime.datetime(2008, 4, 30, 0, 0))\n",
      "('INR', 'Indian Rupee', datetime.datetime(2008, 4, 30, 0, 0))\n",
      "('ISK', 'Iceland Krona', datetime.datetime(2008, 4, 30, 0, 0))\n",
      "('ITL', 'Italian Lira', datetime.datetime(2008, 4, 30, 0, 0))\n",
      "('JMD', 'Jamaican Dollar', datetime.datetime(2008, 4, 30, 0, 0))\n",
      "('JOD', 'Jordanian Dinar', datetime.datetime(2008, 4, 30, 0, 0))\n",
      "('JPY', 'Yen', datetime.datetime(2008, 4, 30, 0, 0))\n",
      "('KES', 'Kenyan Shilling', datetime.datetime(2008, 4, 30, 0, 0))\n",
      "('KRW', 'Won', datetime.datetime(2008, 4, 30, 0, 0))\n",
      "('KWD', 'Kuwaiti Dinar', datetime.datetime(2008, 4, 30, 0, 0))\n",
      "('LBP', 'Lebanese Pound', datetime.datetime(2008, 4, 30, 0, 0))\n",
      "('LKR', 'Sri Lankan Rupee', datetime.datetime(2008, 4, 30, 0, 0))\n",
      "('LTL', 'Lithuanian Litas', datetime.datetime(2008, 4, 30, 0, 0))\n",
      "('LVL', 'Latvian Lats', datetime.datetime(2008, 4, 30, 0, 0))\n",
      "('MAD', 'Moroccan Dirham', datetime.datetime(2008, 4, 30, 0, 0))\n",
      "('MTL', 'Maltese Lira', datetime.datetime(2008, 4, 30, 0, 0))\n",
      "('MUR', 'Mauritius Rupee', datetime.datetime(2008, 4, 30, 0, 0))\n",
      "('MVR', 'Rufiyaa', datetime.datetime(2008, 4, 30, 0, 0))\n",
      "('MXN', 'Mexican Peso', datetime.datetime(2008, 4, 30, 0, 0))\n",
      "('MYR', 'Malaysian Ringgit', datetime.datetime(2008, 4, 30, 0, 0))\n",
      "('NAD', 'Namibia Dollar', datetime.datetime(2008, 4, 30, 0, 0))\n",
      "('NGN', 'Naira', datetime.datetime(2008, 4, 30, 0, 0))\n",
      "('NLG', 'Netherlands Guilder', datetime.datetime(2008, 4, 30, 0, 0))\n",
      "('NOK', 'Norwegian Krone', datetime.datetime(2008, 4, 30, 0, 0))\n",
      "('NPR', 'Nepalese Rupee', datetime.datetime(2008, 4, 30, 0, 0))\n",
      "('NZD', 'New Zealand Dollar', datetime.datetime(2008, 4, 30, 0, 0))\n",
      "('OMR', 'Omani Rial', datetime.datetime(2008, 4, 30, 0, 0))\n",
      "('PAB', 'Balboa', datetime.datetime(2008, 4, 30, 0, 0))\n",
      "('PEN', 'Nuevo Sol', datetime.datetime(2008, 4, 30, 0, 0))\n",
      "('PHP', 'Philippine Peso', datetime.datetime(2008, 4, 30, 0, 0))\n",
      "('PKR', 'Pakistan Rupee', datetime.datetime(2008, 4, 30, 0, 0))\n",
      "('PLN', 'Zloty', datetime.datetime(2008, 4, 30, 0, 0))\n",
      "('PLZ', 'Polish Zloty(old)', datetime.datetime(2008, 4, 30, 0, 0))\n",
      "('PTE', 'Portuguese Escudo', datetime.datetime(2008, 4, 30, 0, 0))\n",
      "('PYG', 'Guarani', datetime.datetime(2008, 4, 30, 0, 0))\n",
      "('ROL', 'Leu', datetime.datetime(2008, 4, 30, 0, 0))\n",
      "('RUB', 'Russian Ruble', datetime.datetime(2008, 4, 30, 0, 0))\n",
      "('RUR', 'Russian Ruble(old)', datetime.datetime(2008, 4, 30, 0, 0))\n",
      "('SAR', 'Saudi Riyal', datetime.datetime(2008, 4, 30, 0, 0))\n",
      "('SEK', 'Swedish Krona', datetime.datetime(2008, 4, 30, 0, 0))\n",
      "('SGD', 'Singapore Dollar', datetime.datetime(2008, 4, 30, 0, 0))\n",
      "('SIT', 'Tolar', datetime.datetime(2008, 4, 30, 0, 0))\n",
      "('SKK', 'Slovak Koruna', datetime.datetime(2008, 4, 30, 0, 0))\n",
      "('SVC', 'El Salvador Colon', datetime.datetime(2008, 4, 30, 0, 0))\n",
      "('THB', 'Baht', datetime.datetime(2008, 4, 30, 0, 0))\n",
      "('TND', 'Tunisian Dinar', datetime.datetime(2008, 4, 30, 0, 0))\n",
      "('TRL', 'Turkish Lira', datetime.datetime(2008, 4, 30, 0, 0))\n",
      "('TTD', 'Trinidad and Tobago Dollar', datetime.datetime(2008, 4, 30, 0, 0))\n",
      "('TWD', 'New Taiwan Dollar', datetime.datetime(2008, 4, 30, 0, 0))\n",
      "('USD', 'US Dollar', datetime.datetime(2008, 4, 30, 0, 0))\n",
      "('UYU', 'Uruguayan Peso', datetime.datetime(2008, 4, 30, 0, 0))\n",
      "('VEB', 'Bolivar', datetime.datetime(2008, 4, 30, 0, 0))\n",
      "('VND', 'Dong', datetime.datetime(2008, 4, 30, 0, 0))\n",
      "('XOF', 'CFA Franc BCEAO', datetime.datetime(2008, 4, 30, 0, 0))\n",
      "('ZAR', 'Rand', datetime.datetime(2008, 4, 30, 0, 0))\n",
      "('ZWD', 'Zimbabwe Dollar', datetime.datetime(2008, 4, 30, 0, 0))\n"
     ]
    }
   ],
   "source": [
    "for r in rows:\n",
    "    print(r)"
   ]
  },
  {
   "cell_type": "code",
   "execution_count": null,
   "metadata": {},
   "outputs": [],
   "source": []
  }
 ],
 "metadata": {
  "kernelspec": {
   "display_name": "base",
   "language": "python",
   "name": "python3"
  },
  "language_info": {
   "codemirror_mode": {
    "name": "ipython",
    "version": 3
   },
   "file_extension": ".py",
   "mimetype": "text/x-python",
   "name": "python",
   "nbconvert_exporter": "python",
   "pygments_lexer": "ipython3",
   "version": "3.11.5"
  }
 },
 "nbformat": 4,
 "nbformat_minor": 2
}
