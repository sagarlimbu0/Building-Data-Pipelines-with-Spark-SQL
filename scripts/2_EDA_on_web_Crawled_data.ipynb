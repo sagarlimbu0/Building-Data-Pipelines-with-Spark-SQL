{
 "cells": [
  {
   "cell_type": "markdown",
   "id": "237eef2d-04d4-4fd5-9efc-e55eb650f92d",
   "metadata": {},
   "source": [
    "### Objective:\n",
    "- Read csv file from partitioned data"
   ]
  },
  {
   "cell_type": "code",
   "execution_count": 1,
   "id": "0d551ac2-1a5e-46f0-9af7-81b2944767e5",
   "metadata": {},
   "outputs": [],
   "source": [
    "import pandas as pd\n",
    "import numpy as np"
   ]
  },
  {
   "cell_type": "code",
   "execution_count": 2,
   "id": "25de91fa-648c-40b7-9ded-039e90e0865c",
   "metadata": {},
   "outputs": [],
   "source": [
    "## read csv file\n",
    "# df_a = pd.read_csv(\"Project_AWS_Web_Crawl/data_sources/columns.csv/part-00046-3c5edd89-b8f2-4f96-b3bb-c044c9c50f9c-c000.csv\")\n",
    "\n",
    "# Read the partitioned Parquet file\n",
    "#df_x= pd.read_parquet(\"Project_AWS_Web_Crawl/data_sources/first_AWS_web_Crawl_partitioned/part-00000-e767fe13-c5f2-4f7f-b7f4-4730bb02c5d3-c000.snappy.parquet\")"
   ]
  },
  {
   "cell_type": "code",
   "execution_count": 3,
   "id": "90c7abf2-1d98-49ca-abf7-35cea6cb36d6",
   "metadata": {},
   "outputs": [],
   "source": [
    "# halve= df_x[: len(df_x)//2]\n",
    "#df_x[ : 1000].to_csv(\"sample_webCrawl.csv\" , index= False)\n",
    "#df_x.to_csv(\"full_sample_webCrawl.csv\" , index= False)"
   ]
  },
  {
   "cell_type": "markdown",
   "id": "a17b1ce7-a299-41c2-be16-50ebd461f0ef",
   "metadata": {},
   "source": [
    "### NOTE:\n",
    "- Ignore the first column header, header= 1, this starts with second row\n",
    "- Adjusting with new columns names\n",
    "- We will further split the `URL` into four sub columns"
   ]
  },
  {
   "cell_type": "code",
   "execution_count": 159,
   "id": "dac89303-ff4a-4f69-a600-1f94751a1854",
   "metadata": {},
   "outputs": [],
   "source": [
    "# df_x= pd.read_csv(\"sample_webCrawl.csv\",\n",
    "#                  names= [\"url_surtkey\", \"url\", \"url_host_tld\", \"url_host_2nd_last_part\", \"url_host_3rd_last_part\", \"\"])\n",
    "\n",
    "## asign the header\n",
    "new_col_names= [\"c1_\", \"c2_\", \"c3_\", \"url\", \"mime\", \"mime_type\", \"status\", \"digest_offset\", \"length\", \"offset\", \"filename\",\"content_charset\", \"language\"]\n",
    "\n",
    "# sample of 10000 rows\n",
    "#df_x= pd.read_csv(\"sample_webCrawl.csv\", names= new_col_names, header=1)\n",
    "\n",
    "# full file \n",
    "df_x= pd.read_csv(\"full_sample_webCrawl.csv\", names= new_col_names, header=1)"
   ]
  },
  {
   "cell_type": "code",
   "execution_count": 169,
   "id": "00b9d2cd-02e4-4294-a9c5-7ae0598f0ec8",
   "metadata": {},
   "outputs": [
    {
     "data": {
      "text/html": [
       "<div>\n",
       "<style scoped>\n",
       "    .dataframe tbody tr th:only-of-type {\n",
       "        vertical-align: middle;\n",
       "    }\n",
       "\n",
       "    .dataframe tbody tr th {\n",
       "        vertical-align: top;\n",
       "    }\n",
       "\n",
       "    .dataframe thead th {\n",
       "        text-align: right;\n",
       "    }\n",
       "</style>\n",
       "<table border=\"1\" class=\"dataframe\">\n",
       "  <thead>\n",
       "    <tr style=\"text-align: right;\">\n",
       "      <th></th>\n",
       "      <th>c1_</th>\n",
       "      <th>c2_</th>\n",
       "      <th>c3_</th>\n",
       "      <th>url</th>\n",
       "      <th>mime</th>\n",
       "      <th>mime_type</th>\n",
       "      <th>status</th>\n",
       "      <th>digest_offset</th>\n",
       "      <th>length</th>\n",
       "      <th>offset</th>\n",
       "      <th>filename</th>\n",
       "      <th>content_charset</th>\n",
       "      <th>language</th>\n",
       "    </tr>\n",
       "  </thead>\n",
       "  <tbody>\n",
       "    <tr>\n",
       "      <th>0</th>\n",
       "      <td>247</td>\n",
       "      <td>175</td>\n",
       "      <td>1</td>\n",
       "      <td>3)/post/naga321-agen-mega-slot-99 202312100823...</td>\n",
       "      <td>\"mime\": \"text/html\"</td>\n",
       "      <td>\"mime-detected\": \"text/html\"</td>\n",
       "      <td>\"status\": \"200\"</td>\n",
       "      <td>\"digest\": \"WWYHNELFKRNADYS5VKQAO5LS2FNQNZMX\"</td>\n",
       "      <td>\"length\": \"18571\"</td>\n",
       "      <td>\"offset\": \"98699237\"</td>\n",
       "      <td>\"filename\": \"crawl-data/CC-MAIN-2023-50/segme...</td>\n",
       "      <td>\"charset\": \"UTF-8\"</td>\n",
       "      <td>\"languages\": \"ind</td>\n",
       "    </tr>\n",
       "    <tr>\n",
       "      <th>1</th>\n",
       "      <td>22</td>\n",
       "      <td>231</td>\n",
       "      <td>111</td>\n",
       "      <td>47:8083)/cate/1077.html 20231207062957 {\"url\":...</td>\n",
       "      <td>\"mime\": \"unk\"</td>\n",
       "      <td>\"mime-detected\": \"text/html\"</td>\n",
       "      <td>\"status\": \"302\"</td>\n",
       "      <td>\"digest\": \"3I42H3S6NNFQ2MSVX7XZKYAYSCX5QBYJ\"</td>\n",
       "      <td>\"length\": \"562\"</td>\n",
       "      <td>\"offset\": \"8684\"</td>\n",
       "      <td>\"filename\": \"crawl-data/CC-MAIN-2023-50/segme...</td>\n",
       "      <td>\"redirect\": \"http://47.111.231.22:8083/0-1077...</td>\n",
       "      <td>NaN</td>\n",
       "    </tr>\n",
       "    <tr>\n",
       "      <th>2</th>\n",
       "      <td>229</td>\n",
       "      <td>132</td>\n",
       "      <td>118</td>\n",
       "      <td>45)/desktop/arcade/microgaming 20231210173131 ...</td>\n",
       "      <td>\"mime\": \"text/html\"</td>\n",
       "      <td>\"mime-detected\": \"text/html\"</td>\n",
       "      <td>\"status\": \"200\"</td>\n",
       "      <td>\"digest\": \"ZTI5WXHBYA6PO4RMH6HNZN3V7NLYLUSH\"</td>\n",
       "      <td>\"length\": \"31162\"</td>\n",
       "      <td>\"offset\": \"98134489\"</td>\n",
       "      <td>\"filename\": \"crawl-data/CC-MAIN-2023-50/segme...</td>\n",
       "      <td>\"charset\": \"UTF-8\"</td>\n",
       "      <td>\"languages\": \"ind\"}</td>\n",
       "    </tr>\n",
       "    <tr>\n",
       "      <th>3</th>\n",
       "      <td>163</td>\n",
       "      <td>30</td>\n",
       "      <td>85</td>\n",
       "      <td>1)/signin?theme=project 20231128164124 {\"url\":...</td>\n",
       "      <td>\"mime\": \"text/html\"</td>\n",
       "      <td>\"mime-detected\": \"text/html\"</td>\n",
       "      <td>\"status\": \"200\"</td>\n",
       "      <td>\"digest\": \"4GRWO5GFA24SSYJ7SKCAN5CPIDGPMUDC\"</td>\n",
       "      <td>\"length\": \"2238\"</td>\n",
       "      <td>\"offset\": \"51154\"</td>\n",
       "      <td>\"filename\": \"crawl-data/CC-MAIN-2023-50/segme...</td>\n",
       "      <td>\"charset\": \"UTF-8\"</td>\n",
       "      <td>\"languages\": \"zho\"}</td>\n",
       "    </tr>\n",
       "    <tr>\n",
       "      <th>4</th>\n",
       "      <td>13</td>\n",
       "      <td>158</td>\n",
       "      <td>44</td>\n",
       "      <td>64)/robots.txt 20231129091744 {\"url\": \"https:/...</td>\n",
       "      <td>\"mime\": \"text/html\"</td>\n",
       "      <td>\"mime-detected\": \"text/html\"</td>\n",
       "      <td>\"status\": \"404\"</td>\n",
       "      <td>\"digest\": \"HQFPHHWLG5J4L7XDWU6QMPDSQYAZ5LB3\"</td>\n",
       "      <td>\"length\": \"539\"</td>\n",
       "      <td>\"offset\": \"790668\"</td>\n",
       "      <td>\"filename\": \"crawl-data/CC-MAIN-2023-50/segme...</td>\n",
       "      <td>NaN</td>\n",
       "      <td>NaN</td>\n",
       "    </tr>\n",
       "  </tbody>\n",
       "</table>\n",
       "</div>"
      ],
      "text/plain": [
       "   c1_  c2_  c3_                                                url  \\\n",
       "0  247  175    1  3)/post/naga321-agen-mega-slot-99 202312100823...   \n",
       "1   22  231  111  47:8083)/cate/1077.html 20231207062957 {\"url\":...   \n",
       "2  229  132  118  45)/desktop/arcade/microgaming 20231210173131 ...   \n",
       "3  163   30   85  1)/signin?theme=project 20231128164124 {\"url\":...   \n",
       "4   13  158   44  64)/robots.txt 20231129091744 {\"url\": \"https:/...   \n",
       "\n",
       "                   mime                      mime_type            status  \\\n",
       "0   \"mime\": \"text/html\"   \"mime-detected\": \"text/html\"   \"status\": \"200\"   \n",
       "1         \"mime\": \"unk\"   \"mime-detected\": \"text/html\"   \"status\": \"302\"   \n",
       "2   \"mime\": \"text/html\"   \"mime-detected\": \"text/html\"   \"status\": \"200\"   \n",
       "3   \"mime\": \"text/html\"   \"mime-detected\": \"text/html\"   \"status\": \"200\"   \n",
       "4   \"mime\": \"text/html\"   \"mime-detected\": \"text/html\"   \"status\": \"404\"   \n",
       "\n",
       "                                   digest_offset              length  \\\n",
       "0   \"digest\": \"WWYHNELFKRNADYS5VKQAO5LS2FNQNZMX\"   \"length\": \"18571\"   \n",
       "1   \"digest\": \"3I42H3S6NNFQ2MSVX7XZKYAYSCX5QBYJ\"     \"length\": \"562\"   \n",
       "2   \"digest\": \"ZTI5WXHBYA6PO4RMH6HNZN3V7NLYLUSH\"   \"length\": \"31162\"   \n",
       "3   \"digest\": \"4GRWO5GFA24SSYJ7SKCAN5CPIDGPMUDC\"    \"length\": \"2238\"   \n",
       "4   \"digest\": \"HQFPHHWLG5J4L7XDWU6QMPDSQYAZ5LB3\"     \"length\": \"539\"   \n",
       "\n",
       "                  offset                                           filename  \\\n",
       "0   \"offset\": \"98699237\"   \"filename\": \"crawl-data/CC-MAIN-2023-50/segme...   \n",
       "1       \"offset\": \"8684\"   \"filename\": \"crawl-data/CC-MAIN-2023-50/segme...   \n",
       "2   \"offset\": \"98134489\"   \"filename\": \"crawl-data/CC-MAIN-2023-50/segme...   \n",
       "3      \"offset\": \"51154\"   \"filename\": \"crawl-data/CC-MAIN-2023-50/segme...   \n",
       "4     \"offset\": \"790668\"   \"filename\": \"crawl-data/CC-MAIN-2023-50/segme...   \n",
       "\n",
       "                                     content_charset              language  \n",
       "0                                 \"charset\": \"UTF-8\"     \"languages\": \"ind  \n",
       "1   \"redirect\": \"http://47.111.231.22:8083/0-1077...                   NaN  \n",
       "2                                 \"charset\": \"UTF-8\"   \"languages\": \"ind\"}  \n",
       "3                                 \"charset\": \"UTF-8\"   \"languages\": \"zho\"}  \n",
       "4                                                NaN                   NaN  "
      ]
     },
     "execution_count": 169,
     "metadata": {},
     "output_type": "execute_result"
    }
   ],
   "source": [
    "df_x.head(5)"
   ]
  },
  {
   "cell_type": "code",
   "execution_count": 161,
   "id": "98cfd26c-3462-4554-85e4-ed9969dc0c1a",
   "metadata": {},
   "outputs": [
    {
     "data": {
      "text/plain": [
       "627736"
      ]
     },
     "execution_count": 161,
     "metadata": {},
     "output_type": "execute_result"
    }
   ],
   "source": [
    "len(df_x)"
   ]
  },
  {
   "cell_type": "code",
   "execution_count": 162,
   "id": "82fce087-c7e1-44b3-b8c8-b392302e9c6b",
   "metadata": {},
   "outputs": [
    {
     "data": {
      "text/plain": [
       "'61)/updoc/prakad640708.pdf 20231211081242 {\"url\": \"http://61.19.73.34/updoc/prakad640708.pdf\"'"
      ]
     },
     "execution_count": 162,
     "metadata": {},
     "output_type": "execute_result"
    }
   ],
   "source": [
    "df_x[\"url\"][9]"
   ]
  },
  {
   "cell_type": "code",
   "execution_count": 163,
   "id": "89e95c0e-dc83-4905-aef4-54efd092e6b2",
   "metadata": {},
   "outputs": [
    {
     "data": {
      "text/plain": [
       "'1)/signin?theme=project 20231128164124 {\"url\": \"http://1.85.30.163/signin?theme=project\"'"
      ]
     },
     "execution_count": 163,
     "metadata": {},
     "output_type": "execute_result"
    }
   ],
   "source": [
    "df_x[\"url\"][3]"
   ]
  },
  {
   "cell_type": "markdown",
   "id": "8ef8395c-e58e-46b6-b479-c7f6d37ca250",
   "metadata": {},
   "source": [
    "### substring from column `url`\n",
    "- Breaking this column name to four sub columns:\n",
    "    - IP_Part_Port\n",
    "    - Resource_Path\n",
    "    - Timestamp\n",
    "    - Full_URL\n",
    "\n",
    "- Example: splitting this name `47:8083)/cate/1077.html 20231207062957 {\"url\": \"http://47.111.231.22:8083/cate/1077.html`\n",
    "    - IP_Part_Port: 47:8083\n",
    "    - Resource_Path: /cate/1077.html\n",
    "    - TimeStamp: 20231207062957\n",
    "    - Full_Url: \"url\": \"http://47.111.231.22:8083/cate/1077.html"
   ]
  },
  {
   "cell_type": "markdown",
   "id": "b4d0f894-bc92-4e05-8b91-c5d991911ace",
   "metadata": {},
   "source": [
    "#### Create new Sub columns"
   ]
  },
  {
   "cell_type": "code",
   "execution_count": 23,
   "id": "04799dd4-bf55-498b-9574-e60137601a04",
   "metadata": {},
   "outputs": [],
   "source": [
    "test_url= df_x[\"url\"][3]"
   ]
  },
  {
   "cell_type": "code",
   "execution_count": 24,
   "id": "0e93d2cc-68ba-40f1-9d55-078d4d30116a",
   "metadata": {},
   "outputs": [
    {
     "data": {
      "text/plain": [
       "['185)/year/2021',\n",
       " '20231211150323',\n",
       " '{\"url\":',\n",
       " '\"http://185.215.164.57/year/2021/\"']"
      ]
     },
     "execution_count": 24,
     "metadata": {},
     "output_type": "execute_result"
    }
   ],
   "source": [
    "full_url"
   ]
  },
  {
   "cell_type": "code",
   "execution_count": 31,
   "id": "7adb2a94-4e66-4463-bbcf-e5307c7dc2ae",
   "metadata": {},
   "outputs": [],
   "source": [
    "url_= df_x[\"url\"][50]\n",
    "full_url= url_.split(' ')\n",
    "\n",
    "ip_resource= full_url[0].split(\")\")\n",
    "\n",
    "# get IP path\n",
    "ip_path = ip_resource[0]\n",
    "# Get Resource path\n",
    "resource_path = ip_resource[1]\n",
    "\n",
    "# get timestamp\n",
    "time_stamp= full_url[1]\n",
    "# Get the full URL\n",
    "url = full_url[3].replace('\"', '')\n"
   ]
  },
  {
   "cell_type": "code",
   "execution_count": 36,
   "id": "15f8c7a7-64de-47ae-af69-010fa24ce56a",
   "metadata": {},
   "outputs": [
    {
     "name": "stdout",
     "output_type": "stream",
     "text": [
      "\n",
      "\n"
     ]
    },
    {
     "data": {
      "text/plain": [
       "'/year/2021'"
      ]
     },
     "execution_count": 36,
     "metadata": {},
     "output_type": "execute_result"
    }
   ],
   "source": [
    "full_url\n",
    "print('\\n')\n",
    "resource_path"
   ]
  },
  {
   "cell_type": "code",
   "execution_count": 300,
   "id": "bd903808-0f97-45e8-afd9-058ba6209d4f",
   "metadata": {},
   "outputs": [],
   "source": [
    "## funciton to perform substring on Full URL path\n",
    "def process_url(df):\n",
    "\n",
    "    ## replace the NaN with NONE value\n",
    "    # df= df.dropna()\n",
    "\n",
    "    #df[\"url\"]= df[\"url\"].replace({ np.nan: 0})\n",
    "\n",
    "    ## list of substrings\n",
    "    ip_path= []\n",
    "    resource_path= []\n",
    "    time_stamp = []\n",
    "    url= []\n",
    "\n",
    "    \n",
    "    # iterate over each row\n",
    "    for j in range(0, len(df)):\n",
    "\n",
    "#        if pd.notna(df[\"url\"][j]):\n",
    "\n",
    "        # split the url\n",
    "        full_url= df[\"url\"][j].split(' ')        \n",
    "            \n",
    "        # Get full path\n",
    "        ip_resource= full_url[0].split(\")\")\n",
    "        \n",
    "        # get IP path\n",
    "        ip_path.append(ip_resource[0])\n",
    "        # Get Resource path\n",
    "        resource_path.append(ip_resource[1])\n",
    "    \n",
    "        # get timestamp\n",
    "        time_stamp.append(full_url[1])\n",
    "        # Get the full URL\n",
    "        url.append(full_url[3].replace('\"', ''))\n",
    "\n",
    "#        else:\n",
    "#            continue\n",
    "            \n",
    "    df_new= df.copy()\n",
    "\n",
    "    # Append the values\n",
    "    df_new[\"Ip_path\"]= ip_path\n",
    "    df_new[\"Resource_path\"]= resource_path\n",
    "    df_new[\"TimeStamp\"]= time_stamp\n",
    "    df_new[\"URL\"] = url\n",
    "\n",
    "    ## drop URL column\n",
    "    df_new= df_new.drop(columns= [\"url\"])\n",
    "\n",
    "    return df_new"
   ]
  },
  {
   "cell_type": "code",
   "execution_count": 288,
   "id": "d44498e0-ac64-4e4e-8218-d351e6bf7a87",
   "metadata": {},
   "outputs": [],
   "source": [
    "df_half= df_x[998:]"
   ]
  },
  {
   "cell_type": "code",
   "execution_count": 289,
   "id": "82c41770-e004-4c01-b8fd-6e704a707e66",
   "metadata": {},
   "outputs": [
    {
     "data": {
      "text/plain": [
       "998     54)/terminos-de-uso 20231130113127 {\"url\": \"ht...\n",
       "999     119)/searchdemo/searchvdodemo7.php 20231208014...\n",
       "1000    202:888)/?id=9827 20231206231934 {\"url\": \"http...\n",
       "1001    111)/director/sagar-chandra 20231208181455 {\"u...\n",
       "Name: url, dtype: object"
      ]
     },
     "execution_count": 289,
     "metadata": {},
     "output_type": "execute_result"
    }
   ],
   "source": [
    "df_half[\"url\"].head(4)"
   ]
  },
  {
   "cell_type": "markdown",
   "id": "f1cec6f2-c579-489e-97ba-cb9a321b2745",
   "metadata": {},
   "source": [
    "### Check for `NaN` values in Column URL"
   ]
  },
  {
   "cell_type": "code",
   "execution_count": 290,
   "id": "b203eb51-19fb-461b-9fe4-d2866b3fc909",
   "metadata": {},
   "outputs": [],
   "source": [
    "# df_none= df_half[df_half[\"url\"].isna()]\n",
    "# df_none[\"url\"]= df_none[\"url\"].replace({ np.nan: 0})"
   ]
  },
  {
   "cell_type": "code",
   "execution_count": null,
   "id": "c6fc8514-b2d7-421c-ab68-e621e6524718",
   "metadata": {},
   "outputs": [],
   "source": []
  },
  {
   "cell_type": "code",
   "execution_count": 291,
   "id": "9c553fb5-1d86-4b48-9267-ba618da069f9",
   "metadata": {},
   "outputs": [
    {
     "ename": "KeyError",
     "evalue": "0",
     "output_type": "error",
     "traceback": [
      "\u001b[0;31m---------------------------------------------------------------------------\u001b[0m",
      "\u001b[0;31mKeyError\u001b[0m                                  Traceback (most recent call last)",
      "File \u001b[0;32m/opt/conda/lib/python3.11/site-packages/pandas/core/indexes/base.py:3653\u001b[0m, in \u001b[0;36mIndex.get_loc\u001b[0;34m(self, key)\u001b[0m\n\u001b[1;32m   3652\u001b[0m \u001b[38;5;28;01mtry\u001b[39;00m:\n\u001b[0;32m-> 3653\u001b[0m     \u001b[38;5;28;01mreturn\u001b[39;00m \u001b[38;5;28;43mself\u001b[39;49m\u001b[38;5;241;43m.\u001b[39;49m\u001b[43m_engine\u001b[49m\u001b[38;5;241;43m.\u001b[39;49m\u001b[43mget_loc\u001b[49m\u001b[43m(\u001b[49m\u001b[43mcasted_key\u001b[49m\u001b[43m)\u001b[49m\n\u001b[1;32m   3654\u001b[0m \u001b[38;5;28;01mexcept\u001b[39;00m \u001b[38;5;167;01mKeyError\u001b[39;00m \u001b[38;5;28;01mas\u001b[39;00m err:\n",
      "File \u001b[0;32m/opt/conda/lib/python3.11/site-packages/pandas/_libs/index.pyx:147\u001b[0m, in \u001b[0;36mpandas._libs.index.IndexEngine.get_loc\u001b[0;34m()\u001b[0m\n",
      "File \u001b[0;32m/opt/conda/lib/python3.11/site-packages/pandas/_libs/index.pyx:176\u001b[0m, in \u001b[0;36mpandas._libs.index.IndexEngine.get_loc\u001b[0;34m()\u001b[0m\n",
      "File \u001b[0;32mpandas/_libs/hashtable_class_helper.pxi:2606\u001b[0m, in \u001b[0;36mpandas._libs.hashtable.Int64HashTable.get_item\u001b[0;34m()\u001b[0m\n",
      "File \u001b[0;32mpandas/_libs/hashtable_class_helper.pxi:2630\u001b[0m, in \u001b[0;36mpandas._libs.hashtable.Int64HashTable.get_item\u001b[0;34m()\u001b[0m\n",
      "\u001b[0;31mKeyError\u001b[0m: 0",
      "\nThe above exception was the direct cause of the following exception:\n",
      "\u001b[0;31mKeyError\u001b[0m                                  Traceback (most recent call last)",
      "File \u001b[0;32m<timed eval>:1\u001b[0m\n",
      "Cell \u001b[0;32mIn[287], line 22\u001b[0m, in \u001b[0;36mprocess_url\u001b[0;34m(df)\u001b[0m\n\u001b[1;32m     16\u001b[0m     \u001b[38;5;66;03m# iterate over each row\u001b[39;00m\n\u001b[1;32m     17\u001b[0m     \u001b[38;5;28;01mfor\u001b[39;00m j \u001b[38;5;129;01min\u001b[39;00m \u001b[38;5;28mrange\u001b[39m(\u001b[38;5;241m0\u001b[39m, \u001b[38;5;28mlen\u001b[39m(df)):\n\u001b[1;32m     18\u001b[0m \n\u001b[1;32m     19\u001b[0m \u001b[38;5;66;03m#        if pd.notna(df[\"url\"][j]):\u001b[39;00m\n\u001b[1;32m     20\u001b[0m \n\u001b[1;32m     21\u001b[0m         \u001b[38;5;66;03m# split the url\u001b[39;00m\n\u001b[0;32m---> 22\u001b[0m         full_url\u001b[38;5;241m=\u001b[39m \u001b[43mdf\u001b[49m\u001b[43m[\u001b[49m\u001b[38;5;124;43m\"\u001b[39;49m\u001b[38;5;124;43murl\u001b[39;49m\u001b[38;5;124;43m\"\u001b[39;49m\u001b[43m]\u001b[49m\u001b[43m[\u001b[49m\u001b[43mj\u001b[49m\u001b[43m]\u001b[49m\u001b[38;5;241m.\u001b[39msplit(\u001b[38;5;124m'\u001b[39m\u001b[38;5;124m \u001b[39m\u001b[38;5;124m'\u001b[39m)        \n\u001b[1;32m     24\u001b[0m         \u001b[38;5;66;03m# Get full path\u001b[39;00m\n\u001b[1;32m     25\u001b[0m         ip_resource\u001b[38;5;241m=\u001b[39m full_url[\u001b[38;5;241m0\u001b[39m]\u001b[38;5;241m.\u001b[39msplit(\u001b[38;5;124m\"\u001b[39m\u001b[38;5;124m)\u001b[39m\u001b[38;5;124m\"\u001b[39m)\n",
      "File \u001b[0;32m/opt/conda/lib/python3.11/site-packages/pandas/core/series.py:1007\u001b[0m, in \u001b[0;36mSeries.__getitem__\u001b[0;34m(self, key)\u001b[0m\n\u001b[1;32m   1004\u001b[0m     \u001b[38;5;28;01mreturn\u001b[39;00m \u001b[38;5;28mself\u001b[39m\u001b[38;5;241m.\u001b[39m_values[key]\n\u001b[1;32m   1006\u001b[0m \u001b[38;5;28;01melif\u001b[39;00m key_is_scalar:\n\u001b[0;32m-> 1007\u001b[0m     \u001b[38;5;28;01mreturn\u001b[39;00m \u001b[38;5;28;43mself\u001b[39;49m\u001b[38;5;241;43m.\u001b[39;49m\u001b[43m_get_value\u001b[49m\u001b[43m(\u001b[49m\u001b[43mkey\u001b[49m\u001b[43m)\u001b[49m\n\u001b[1;32m   1009\u001b[0m \u001b[38;5;28;01mif\u001b[39;00m is_hashable(key):\n\u001b[1;32m   1010\u001b[0m     \u001b[38;5;66;03m# Otherwise index.get_value will raise InvalidIndexError\u001b[39;00m\n\u001b[1;32m   1011\u001b[0m     \u001b[38;5;28;01mtry\u001b[39;00m:\n\u001b[1;32m   1012\u001b[0m         \u001b[38;5;66;03m# For labels that don't resolve as scalars like tuples and frozensets\u001b[39;00m\n",
      "File \u001b[0;32m/opt/conda/lib/python3.11/site-packages/pandas/core/series.py:1116\u001b[0m, in \u001b[0;36mSeries._get_value\u001b[0;34m(self, label, takeable)\u001b[0m\n\u001b[1;32m   1113\u001b[0m     \u001b[38;5;28;01mreturn\u001b[39;00m \u001b[38;5;28mself\u001b[39m\u001b[38;5;241m.\u001b[39m_values[label]\n\u001b[1;32m   1115\u001b[0m \u001b[38;5;66;03m# Similar to Index.get_value, but we do not fall back to positional\u001b[39;00m\n\u001b[0;32m-> 1116\u001b[0m loc \u001b[38;5;241m=\u001b[39m \u001b[38;5;28;43mself\u001b[39;49m\u001b[38;5;241;43m.\u001b[39;49m\u001b[43mindex\u001b[49m\u001b[38;5;241;43m.\u001b[39;49m\u001b[43mget_loc\u001b[49m\u001b[43m(\u001b[49m\u001b[43mlabel\u001b[49m\u001b[43m)\u001b[49m\n\u001b[1;32m   1118\u001b[0m \u001b[38;5;28;01mif\u001b[39;00m is_integer(loc):\n\u001b[1;32m   1119\u001b[0m     \u001b[38;5;28;01mreturn\u001b[39;00m \u001b[38;5;28mself\u001b[39m\u001b[38;5;241m.\u001b[39m_values[loc]\n",
      "File \u001b[0;32m/opt/conda/lib/python3.11/site-packages/pandas/core/indexes/base.py:3655\u001b[0m, in \u001b[0;36mIndex.get_loc\u001b[0;34m(self, key)\u001b[0m\n\u001b[1;32m   3653\u001b[0m     \u001b[38;5;28;01mreturn\u001b[39;00m \u001b[38;5;28mself\u001b[39m\u001b[38;5;241m.\u001b[39m_engine\u001b[38;5;241m.\u001b[39mget_loc(casted_key)\n\u001b[1;32m   3654\u001b[0m \u001b[38;5;28;01mexcept\u001b[39;00m \u001b[38;5;167;01mKeyError\u001b[39;00m \u001b[38;5;28;01mas\u001b[39;00m err:\n\u001b[0;32m-> 3655\u001b[0m     \u001b[38;5;28;01mraise\u001b[39;00m \u001b[38;5;167;01mKeyError\u001b[39;00m(key) \u001b[38;5;28;01mfrom\u001b[39;00m \u001b[38;5;21;01merr\u001b[39;00m\n\u001b[1;32m   3656\u001b[0m \u001b[38;5;28;01mexcept\u001b[39;00m \u001b[38;5;167;01mTypeError\u001b[39;00m:\n\u001b[1;32m   3657\u001b[0m     \u001b[38;5;66;03m# If we have a listlike key, _check_indexing_error will raise\u001b[39;00m\n\u001b[1;32m   3658\u001b[0m     \u001b[38;5;66;03m#  InvalidIndexError. Otherwise we fall through and re-raise\u001b[39;00m\n\u001b[1;32m   3659\u001b[0m     \u001b[38;5;66;03m#  the TypeError.\u001b[39;00m\n\u001b[1;32m   3660\u001b[0m     \u001b[38;5;28mself\u001b[39m\u001b[38;5;241m.\u001b[39m_check_indexing_error(key)\n",
      "\u001b[0;31mKeyError\u001b[0m: 0"
     ]
    }
   ],
   "source": [
    "%%time\n",
    "process_url(df_half)"
   ]
  },
  {
   "cell_type": "code",
   "execution_count": 297,
   "id": "1550984f-9c9f-4cc8-bb90-0407ef3c93d6",
   "metadata": {},
   "outputs": [],
   "source": [
    "df_copy = df_x.copy()\n",
    "\n",
    "df_copy= df_copy[pd.notna(df_copy[\"url\"])]"
   ]
  },
  {
   "cell_type": "code",
   "execution_count": 299,
   "id": "d5febdad-3eb9-4642-b4d0-a0605b8a1b8d",
   "metadata": {},
   "outputs": [
    {
     "data": {
      "text/plain": [
       "(627736, 627728)"
      ]
     },
     "execution_count": 299,
     "metadata": {},
     "output_type": "execute_result"
    }
   ],
   "source": [
    "len(df_x),len(df_copy)"
   ]
  },
  {
   "cell_type": "code",
   "execution_count": 301,
   "id": "2ddbf9cf-6b48-4d40-bc2e-054b0480ad57",
   "metadata": {},
   "outputs": [
    {
     "ename": "IndexError",
     "evalue": "list index out of range",
     "output_type": "error",
     "traceback": [
      "\u001b[0;31m---------------------------------------------------------------------------\u001b[0m",
      "\u001b[0;31mIndexError\u001b[0m                                Traceback (most recent call last)",
      "File \u001b[0;32m<timed eval>:1\u001b[0m\n",
      "Cell \u001b[0;32mIn[300], line 33\u001b[0m, in \u001b[0;36mprocess_url\u001b[0;34m(df)\u001b[0m\n\u001b[1;32m     30\u001b[0m resource_path\u001b[38;5;241m.\u001b[39mappend(ip_resource[\u001b[38;5;241m1\u001b[39m])\n\u001b[1;32m     32\u001b[0m \u001b[38;5;66;03m# get timestamp\u001b[39;00m\n\u001b[0;32m---> 33\u001b[0m time_stamp\u001b[38;5;241m.\u001b[39mappend(\u001b[43mfull_url\u001b[49m\u001b[43m[\u001b[49m\u001b[38;5;241;43m1\u001b[39;49m\u001b[43m]\u001b[49m)\n\u001b[1;32m     34\u001b[0m \u001b[38;5;66;03m# Get the full URL\u001b[39;00m\n\u001b[1;32m     35\u001b[0m url\u001b[38;5;241m.\u001b[39mappend(full_url[\u001b[38;5;241m3\u001b[39m]\u001b[38;5;241m.\u001b[39mreplace(\u001b[38;5;124m'\u001b[39m\u001b[38;5;124m\"\u001b[39m\u001b[38;5;124m'\u001b[39m, \u001b[38;5;124m'\u001b[39m\u001b[38;5;124m'\u001b[39m))\n",
      "\u001b[0;31mIndexError\u001b[0m: list index out of range"
     ]
    }
   ],
   "source": [
    "%%time\n",
    "process_url(df_copy)"
   ]
  },
  {
   "cell_type": "code",
   "execution_count": 318,
   "id": "89902725-fe57-4519-a78f-7b2e61bdb649",
   "metadata": {},
   "outputs": [
    {
     "data": {
      "text/html": [
       "<div>\n",
       "<style scoped>\n",
       "    .dataframe tbody tr th:only-of-type {\n",
       "        vertical-align: middle;\n",
       "    }\n",
       "\n",
       "    .dataframe tbody tr th {\n",
       "        vertical-align: top;\n",
       "    }\n",
       "\n",
       "    .dataframe thead th {\n",
       "        text-align: right;\n",
       "    }\n",
       "</style>\n",
       "<table border=\"1\" class=\"dataframe\">\n",
       "  <thead>\n",
       "    <tr style=\"text-align: right;\">\n",
       "      <th></th>\n",
       "      <th>c1_</th>\n",
       "      <th>c2_</th>\n",
       "      <th>c3_</th>\n",
       "      <th>url</th>\n",
       "      <th>mime</th>\n",
       "      <th>mime_type</th>\n",
       "      <th>status</th>\n",
       "      <th>digest_offset</th>\n",
       "      <th>length</th>\n",
       "      <th>offset</th>\n",
       "      <th>filename</th>\n",
       "      <th>content_charset</th>\n",
       "      <th>language</th>\n",
       "    </tr>\n",
       "  </thead>\n",
       "  <tbody>\n",
       "    <tr>\n",
       "      <th>627733</th>\n",
       "      <td>app</td>\n",
       "      <td>web</td>\n",
       "      <td>faxlibmtuj)/film-la-mano-de-dios-streaming-ita...</td>\n",
       "      <td>\"mime\": \"text/html\"</td>\n",
       "      <td>\"mime-detected\": \"text/html\"</td>\n",
       "      <td>\"status\": \"200\"</td>\n",
       "      <td>\"digest\": \"CXDJVTSIGMANJ7RTANUUAUNUVBA7HKDB\"</td>\n",
       "      <td>\"length\": \"9088\"</td>\n",
       "      <td>\"offset\": \"296662863\"</td>\n",
       "      <td>\"filename\": \"crawl-data/CC-MAIN-2023-50/segme...</td>\n",
       "      <td>\"charset\": \"UTF-8\"</td>\n",
       "      <td>\"languages\": \"ita</td>\n",
       "      <td>eng\"}</td>\n",
       "    </tr>\n",
       "    <tr>\n",
       "      <th>627734</th>\n",
       "      <td>app</td>\n",
       "      <td>web</td>\n",
       "      <td>faxlibiwyzh)/aparato-reproductor-primaria-pdf-...</td>\n",
       "      <td>\"mime\": \"warc/revisit\"</td>\n",
       "      <td>\"status\": \"304\"</td>\n",
       "      <td>\"length\": \"703\"</td>\n",
       "      <td>\"offset\": \"10342703\"</td>\n",
       "      <td>\"filename\": \"crawl-data/CC-MAIN-2023-50/segme...</td>\n",
       "      <td>NaN</td>\n",
       "      <td>NaN</td>\n",
       "      <td>NaN</td>\n",
       "      <td>NaN</td>\n",
       "      <td>NaN</td>\n",
       "    </tr>\n",
       "    <tr>\n",
       "      <th>627735</th>\n",
       "      <td>app</td>\n",
       "      <td>web</td>\n",
       "      <td>faxlibkptg)/korff31546j/992084.html 2023121007...</td>\n",
       "      <td>\"mime\": \"text/html\"</td>\n",
       "      <td>\"mime-detected\": \"text/html\"</td>\n",
       "      <td>\"status\": \"200\"</td>\n",
       "      <td>\"digest\": \"BNODFYP4PYGKWJJMKE5K5CGPM7E2WEVN\"</td>\n",
       "      <td>\"length\": \"6675\"</td>\n",
       "      <td>\"offset\": \"273481327\"</td>\n",
       "      <td>\"filename\": \"crawl-data/CC-MAIN-2023-50/segme...</td>\n",
       "      <td>\"charset\": \"UTF-8\"</td>\n",
       "      <td>\"languages\": \"spa</td>\n",
       "      <td>eng\"}</td>\n",
       "    </tr>\n",
       "  </tbody>\n",
       "</table>\n",
       "</div>"
      ],
      "text/plain": [
       "        c1_  c2_                                                c3_  \\\n",
       "627733  app  web  faxlibmtuj)/film-la-mano-de-dios-streaming-ita...   \n",
       "627734  app  web  faxlibiwyzh)/aparato-reproductor-primaria-pdf-...   \n",
       "627735  app  web  faxlibkptg)/korff31546j/992084.html 2023121007...   \n",
       "\n",
       "                            url                           mime  \\\n",
       "627733      \"mime\": \"text/html\"   \"mime-detected\": \"text/html\"   \n",
       "627734   \"mime\": \"warc/revisit\"                \"status\": \"304\"   \n",
       "627735      \"mime\": \"text/html\"   \"mime-detected\": \"text/html\"   \n",
       "\n",
       "               mime_type                                         status  \\\n",
       "627733   \"status\": \"200\"   \"digest\": \"CXDJVTSIGMANJ7RTANUUAUNUVBA7HKDB\"   \n",
       "627734   \"length\": \"703\"                           \"offset\": \"10342703\"   \n",
       "627735   \"status\": \"200\"   \"digest\": \"BNODFYP4PYGKWJJMKE5K5CGPM7E2WEVN\"   \n",
       "\n",
       "                                            digest_offset  \\\n",
       "627733                                   \"length\": \"9088\"   \n",
       "627734   \"filename\": \"crawl-data/CC-MAIN-2023-50/segme...   \n",
       "627735                                   \"length\": \"6675\"   \n",
       "\n",
       "                        length  \\\n",
       "627733   \"offset\": \"296662863\"   \n",
       "627734                     NaN   \n",
       "627735   \"offset\": \"273481327\"   \n",
       "\n",
       "                                                   offset  \\\n",
       "627733   \"filename\": \"crawl-data/CC-MAIN-2023-50/segme...   \n",
       "627734                                                NaN   \n",
       "627735   \"filename\": \"crawl-data/CC-MAIN-2023-50/segme...   \n",
       "\n",
       "                   filename     content_charset language  \n",
       "627733   \"charset\": \"UTF-8\"   \"languages\": \"ita    eng\"}  \n",
       "627734                  NaN                 NaN      NaN  \n",
       "627735   \"charset\": \"UTF-8\"   \"languages\": \"spa    eng\"}  "
      ]
     },
     "execution_count": 318,
     "metadata": {},
     "output_type": "execute_result"
    }
   ],
   "source": [
    "df_copy.tail(3)"
   ]
  },
  {
   "cell_type": "code",
   "execution_count": 320,
   "id": "94490d71-b7ca-4331-82ac-0aab074a26a0",
   "metadata": {},
   "outputs": [
    {
     "data": {
      "text/html": [
       "<div>\n",
       "<style scoped>\n",
       "    .dataframe tbody tr th:only-of-type {\n",
       "        vertical-align: middle;\n",
       "    }\n",
       "\n",
       "    .dataframe tbody tr th {\n",
       "        vertical-align: top;\n",
       "    }\n",
       "\n",
       "    .dataframe thead th {\n",
       "        text-align: right;\n",
       "    }\n",
       "</style>\n",
       "<table border=\"1\" class=\"dataframe\">\n",
       "  <thead>\n",
       "    <tr style=\"text-align: right;\">\n",
       "      <th></th>\n",
       "      <th>c1_</th>\n",
       "      <th>c2_</th>\n",
       "      <th>c3_</th>\n",
       "      <th>url</th>\n",
       "      <th>mime</th>\n",
       "      <th>mime_type</th>\n",
       "      <th>status</th>\n",
       "      <th>digest_offset</th>\n",
       "      <th>length</th>\n",
       "      <th>offset</th>\n",
       "      <th>filename</th>\n",
       "      <th>content_charset</th>\n",
       "      <th>language</th>\n",
       "    </tr>\n",
       "  </thead>\n",
       "  <tbody>\n",
       "    <tr>\n",
       "      <th>0</th>\n",
       "      <td>247</td>\n",
       "      <td>175</td>\n",
       "      <td>1</td>\n",
       "      <td>3)/post/naga321-agen-mega-slot-99 202312100823...</td>\n",
       "      <td>\"mime\": \"text/html\"</td>\n",
       "      <td>\"mime-detected\": \"text/html\"</td>\n",
       "      <td>\"status\": \"200\"</td>\n",
       "      <td>\"digest\": \"WWYHNELFKRNADYS5VKQAO5LS2FNQNZMX\"</td>\n",
       "      <td>\"length\": \"18571\"</td>\n",
       "      <td>\"offset\": \"98699237\"</td>\n",
       "      <td>\"filename\": \"crawl-data/CC-MAIN-2023-50/segme...</td>\n",
       "      <td>\"charset\": \"UTF-8\"</td>\n",
       "      <td>\"languages\": \"ind</td>\n",
       "    </tr>\n",
       "    <tr>\n",
       "      <th>1</th>\n",
       "      <td>22</td>\n",
       "      <td>231</td>\n",
       "      <td>111</td>\n",
       "      <td>47:8083)/cate/1077.html 20231207062957 {\"url\":...</td>\n",
       "      <td>\"mime\": \"unk\"</td>\n",
       "      <td>\"mime-detected\": \"text/html\"</td>\n",
       "      <td>\"status\": \"302\"</td>\n",
       "      <td>\"digest\": \"3I42H3S6NNFQ2MSVX7XZKYAYSCX5QBYJ\"</td>\n",
       "      <td>\"length\": \"562\"</td>\n",
       "      <td>\"offset\": \"8684\"</td>\n",
       "      <td>\"filename\": \"crawl-data/CC-MAIN-2023-50/segme...</td>\n",
       "      <td>\"redirect\": \"http://47.111.231.22:8083/0-1077...</td>\n",
       "      <td>NaN</td>\n",
       "    </tr>\n",
       "    <tr>\n",
       "      <th>2</th>\n",
       "      <td>229</td>\n",
       "      <td>132</td>\n",
       "      <td>118</td>\n",
       "      <td>45)/desktop/arcade/microgaming 20231210173131 ...</td>\n",
       "      <td>\"mime\": \"text/html\"</td>\n",
       "      <td>\"mime-detected\": \"text/html\"</td>\n",
       "      <td>\"status\": \"200\"</td>\n",
       "      <td>\"digest\": \"ZTI5WXHBYA6PO4RMH6HNZN3V7NLYLUSH\"</td>\n",
       "      <td>\"length\": \"31162\"</td>\n",
       "      <td>\"offset\": \"98134489\"</td>\n",
       "      <td>\"filename\": \"crawl-data/CC-MAIN-2023-50/segme...</td>\n",
       "      <td>\"charset\": \"UTF-8\"</td>\n",
       "      <td>\"languages\": \"ind\"}</td>\n",
       "    </tr>\n",
       "  </tbody>\n",
       "</table>\n",
       "</div>"
      ],
      "text/plain": [
       "   c1_  c2_  c3_                                                url  \\\n",
       "0  247  175    1  3)/post/naga321-agen-mega-slot-99 202312100823...   \n",
       "1   22  231  111  47:8083)/cate/1077.html 20231207062957 {\"url\":...   \n",
       "2  229  132  118  45)/desktop/arcade/microgaming 20231210173131 ...   \n",
       "\n",
       "                   mime                      mime_type            status  \\\n",
       "0   \"mime\": \"text/html\"   \"mime-detected\": \"text/html\"   \"status\": \"200\"   \n",
       "1         \"mime\": \"unk\"   \"mime-detected\": \"text/html\"   \"status\": \"302\"   \n",
       "2   \"mime\": \"text/html\"   \"mime-detected\": \"text/html\"   \"status\": \"200\"   \n",
       "\n",
       "                                   digest_offset              length  \\\n",
       "0   \"digest\": \"WWYHNELFKRNADYS5VKQAO5LS2FNQNZMX\"   \"length\": \"18571\"   \n",
       "1   \"digest\": \"3I42H3S6NNFQ2MSVX7XZKYAYSCX5QBYJ\"     \"length\": \"562\"   \n",
       "2   \"digest\": \"ZTI5WXHBYA6PO4RMH6HNZN3V7NLYLUSH\"   \"length\": \"31162\"   \n",
       "\n",
       "                  offset                                           filename  \\\n",
       "0   \"offset\": \"98699237\"   \"filename\": \"crawl-data/CC-MAIN-2023-50/segme...   \n",
       "1       \"offset\": \"8684\"   \"filename\": \"crawl-data/CC-MAIN-2023-50/segme...   \n",
       "2   \"offset\": \"98134489\"   \"filename\": \"crawl-data/CC-MAIN-2023-50/segme...   \n",
       "\n",
       "                                     content_charset              language  \n",
       "0                                 \"charset\": \"UTF-8\"     \"languages\": \"ind  \n",
       "1   \"redirect\": \"http://47.111.231.22:8083/0-1077...                   NaN  \n",
       "2                                 \"charset\": \"UTF-8\"   \"languages\": \"ind\"}  "
      ]
     },
     "execution_count": 320,
     "metadata": {},
     "output_type": "execute_result"
    }
   ],
   "source": [
    "df_copy.head(3)"
   ]
  },
  {
   "cell_type": "markdown",
   "id": "b8041899-56ea-4c36-a343-801bb06e0192",
   "metadata": {},
   "source": [
    "### Include the column names to numeric else set to NULL and drop"
   ]
  },
  {
   "cell_type": "code",
   "execution_count": null,
   "id": "f3b03d7f-d71d-4b55-bb1d-598a1a3c2eef",
   "metadata": {},
   "outputs": [],
   "source": [
    "df_cp"
   ]
  },
  {
   "cell_type": "code",
   "execution_count": 321,
   "id": "03512a4c-71fe-4fc0-9bea-f95b874d453f",
   "metadata": {},
   "outputs": [
    {
     "data": {
      "text/plain": [
       "383075"
      ]
     },
     "execution_count": 321,
     "metadata": {},
     "output_type": "execute_result"
    }
   ],
   "source": [
    "len(df_copy[\"c2_\"].unique())"
   ]
  },
  {
   "cell_type": "code",
   "execution_count": null,
   "id": "04a51310-c90e-4257-abd6-45223273b36c",
   "metadata": {},
   "outputs": [],
   "source": []
  }
 ],
 "metadata": {
  "kernelspec": {
   "display_name": "base",
   "language": "python",
   "name": "python3"
  },
  "language_info": {
   "codemirror_mode": {
    "name": "ipython",
    "version": 3
   },
   "file_extension": ".py",
   "mimetype": "text/x-python",
   "name": "python",
   "nbconvert_exporter": "python",
   "pygments_lexer": "ipython3",
   "version": "3.11.5"
  }
 },
 "nbformat": 4,
 "nbformat_minor": 5
}
