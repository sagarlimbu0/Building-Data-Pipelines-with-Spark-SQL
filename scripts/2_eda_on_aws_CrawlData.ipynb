{
 "cells": [
  {
   "cell_type": "markdown",
   "id": "cc5f9223-7810-4270-994b-6aea6ff0e8e9",
   "metadata": {},
   "source": [
    "### Objective:\n",
    "- perform EDA on AWS Web Crawl Data"
   ]
  },
  {
   "cell_type": "code",
   "execution_count": 1,
   "id": "c66de8f8-b7e2-48d8-a715-17bd42ba5e5d",
   "metadata": {},
   "outputs": [],
   "source": [
    "from pyspark.sql import functions as F\n",
    "from pyspark import SparkConf\n",
    "from pyspark import SparkContext\n",
    "from pyspark.sql import SparkSession\n",
    "\n",
    "from pyspark.sql import types\n",
    "\n",
    "import pandas as pd\n",
    "import numpy as np"
   ]
  },
  {
   "cell_type": "markdown",
   "id": "9c441ec1-1f2e-42e7-9113-97bffb7e388e",
   "metadata": {},
   "source": [
    "#### Configuration"
   ]
  },
  {
   "cell_type": "code",
   "execution_count": 2,
   "id": "c4e9b205-9b5c-45a1-ba38-45361a7896e2",
   "metadata": {},
   "outputs": [],
   "source": [
    "config = SparkConf()\\\n",
    "    .setAppName('AWS_Crawl')\\\n",
    "    .setMaster('local[*]')"
   ]
  },
  {
   "cell_type": "markdown",
   "id": "aa89153e-d922-4464-b599-43e378b51502",
   "metadata": {},
   "source": [
    "#### Spark Session"
   ]
  },
  {
   "cell_type": "code",
   "execution_count": 3,
   "id": "ac441352-0108-49d1-a9e3-1fc97bb7b150",
   "metadata": {},
   "outputs": [],
   "source": [
    "spark = SparkSession \\\n",
    "    .builder \\\n",
    "    .config(conf = config)\\\n",
    "    .getOrCreate()"
   ]
  },
  {
   "cell_type": "markdown",
   "id": "8a673bed-84ef-4aa0-b07d-17acdac36c06",
   "metadata": {},
   "source": [
    "#### Read file from web crawl"
   ]
  },
  {
   "cell_type": "code",
   "execution_count": 4,
   "id": "7846ae43-80d5-4f82-a0c2-5201a60b07b8",
   "metadata": {},
   "outputs": [],
   "source": [
    "# df_web = spark.read\\\n",
    "#     .option('header', True)\\\n",
    "#     .csv(\"../data_sources/AWS_web_crawl/cdx-00000\")\n",
    "\n",
    "df_web = spark.read\\\n",
    "    .csv(\"../data_sources/AWS_web_crawl/cdx-00000\")"
   ]
  },
  {
   "cell_type": "code",
   "execution_count": 26,
   "id": "bf390084-1a0e-4e53-a539-f30b9689bb08",
   "metadata": {},
   "outputs": [
    {
     "name": "stdout",
     "output_type": "stream",
     "text": [
      "+---+---+---+--------------------+--------------------+--------------------+----------------+--------------------+-----------------+--------------------+--------------------+--------------------+--------------------+\n",
      "|_c0|_c1|_c2|                 _c3|                 _c4|                 _c5|             _c6|                 _c7|              _c8|                 _c9|                _c10|                _c11|                _c12|\n",
      "+---+---+---+--------------------+--------------------+--------------------+----------------+--------------------+-----------------+--------------------+--------------------+--------------------+--------------------+\n",
      "|  0| 11|248|207)/ 20231209181...| \"mime\": \"text/html\"| \"mime-detected\":...| \"status\": \"200\"| \"digest\": \"V33MY...|  \"length\": \"985\"|  \"offset\": \"246822\"| \"filename\": \"cra...| \"charset\": \"ISO-...| \"languages\": \"eng\"}|\n",
      "|  0| 11|248|207)/robots.txt 2...| \"mime\": \"text/html\"| \"mime-detected\":...| \"status\": \"404\"| \"digest\": \"AS23R...| \"length\": \"1112\"|    \"offset\": \"4988\"| \"filename\": \"cra...|                NULL|                NULL|\n",
      "|  0| 11|248|207:5661)/robots....| \"mime\": \"text/html\"| \"mime-detected\":...| \"status\": \"404\"| \"digest\": \"LUWHV...|  \"length\": \"836\"|    \"offset\": \"1853\"| \"filename\": \"cra...|                NULL|                NULL|\n",
      "|  0| 11|248|207:5661)/sipweb/...| \"mime\": \"text/html\"| \"mime-detected\":...| \"status\": \"200\"| \"digest\": \"BLHK6...| \"length\": \"3088\"|  \"offset\": \"222228\"| \"filename\": \"cra...|  \"charset\": \"UTF-8\"| \"languages\": \"por\"}|\n",
      "|  0|111|128|178)/ 20231210132...| \"mime\": \"text/html\"| \"mime-detected\":...| \"status\": \"200\"| \"digest\": \"JIFCQ...| \"length\": \"4586\"| \"offset\": \"93798...| \"filename\": \"cra...|  \"charset\": \"UTF-8\"| \"languages\": \"eng\"}|\n",
      "+---+---+---+--------------------+--------------------+--------------------+----------------+--------------------+-----------------+--------------------+--------------------+--------------------+--------------------+\n",
      "only showing top 5 rows\n",
      "\n"
     ]
    }
   ],
   "source": [
    "df_web.show(5)"
   ]
  },
  {
   "cell_type": "code",
   "execution_count": 20,
   "id": "f49acfed-f3f2-4b73-af9b-b1eff1673ff5",
   "metadata": {},
   "outputs": [
    {
     "name": "stdout",
     "output_type": "stream",
     "text": [
      "+---+---+---+--------------------+\n",
      "|_c0|_c1|_c2|                 _c3|\n",
      "+---+---+---+--------------------+\n",
      "|  0| 11|248|207)/ 20231209181...|\n",
      "|  0| 11|248|207)/robots.txt 2...|\n",
      "|  0| 11|248|207:5661)/robots....|\n",
      "|  0| 11|248|207:5661)/sipweb/...|\n",
      "|  0|111|128|178)/ 20231210132...|\n",
      "+---+---+---+--------------------+\n",
      "only showing top 5 rows\n",
      "\n"
     ]
    }
   ],
   "source": [
    "df_web[[\"_c0\", \"_c1\", \"_c2\",\"_c3\"]].show(5)"
   ]
  },
  {
   "cell_type": "code",
   "execution_count": 28,
   "id": "269a6fc3-f64f-4bfa-af8f-f8090f2c32ff",
   "metadata": {},
   "outputs": [
    {
     "data": {
      "text/plain": [
       "DataFrame[_c10: string]"
      ]
     },
     "execution_count": 28,
     "metadata": {},
     "output_type": "execute_result"
    }
   ],
   "source": [
    "df_web[[\"_c10\"]]"
   ]
  },
  {
   "cell_type": "code",
   "execution_count": 40,
   "id": "2028261a-c20b-47ed-ba17-f226983e16ec",
   "metadata": {},
   "outputs": [],
   "source": [
    "df_web_sample= df_web.sample(0.05)"
   ]
  },
  {
   "cell_type": "code",
   "execution_count": 43,
   "id": "b64c93c7-6c00-42c0-9325-4efea3a1c04a",
   "metadata": {},
   "outputs": [],
   "source": [
    "# %%time\n",
    "# len(df_web_sample.count())"
   ]
  },
  {
   "cell_type": "markdown",
   "id": "30e818aa-7bdc-49a7-8bbc-fcc68b7be388",
   "metadata": {},
   "source": [
    "## Schema design"
   ]
  },
  {
   "cell_type": "code",
   "execution_count": null,
   "id": "4ccb1985-0b44-4cf3-a581-fe115e0f9af5",
   "metadata": {},
   "outputs": [],
   "source": [
    "schema_= types.StructType(\n",
    "    types.StructField()\n",
    ")"
   ]
  },
  {
   "cell_type": "markdown",
   "id": "6aae9705-62ac-4795-9e8d-2dab050b5061",
   "metadata": {},
   "source": [
    "#### Total Lenght of the file"
   ]
  },
  {
   "cell_type": "code",
   "execution_count": 21,
   "id": "ba5174df-b4c8-42a3-a5c9-ac034b52e1db",
   "metadata": {},
   "outputs": [
    {
     "data": {
      "text/plain": [
       "13"
      ]
     },
     "execution_count": 21,
     "metadata": {},
     "output_type": "execute_result"
    }
   ],
   "source": [
    "len(df_web.columns)"
   ]
  },
  {
   "cell_type": "code",
   "execution_count": 6,
   "id": "c67669c6-d3b2-47ec-b534-e3ea0394d3f4",
   "metadata": {},
   "outputs": [],
   "source": [
    "# len(df_web.collect())"
   ]
  },
  {
   "cell_type": "code",
   "execution_count": 9,
   "id": "db384122-50ad-4570-a486-d3d5aa68cb4c",
   "metadata": {},
   "outputs": [],
   "source": [
    "df_web.registerTempTable(\"web_database\")"
   ]
  },
  {
   "cell_type": "markdown",
   "id": "dea8fa8f-9ae4-4e21-b339-5aab26d670d6",
   "metadata": {},
   "source": [
    "#### Perform SQL Querries"
   ]
  },
  {
   "cell_type": "code",
   "execution_count": 10,
   "id": "266e378b-4325-4431-a881-5c05618ffcba",
   "metadata": {},
   "outputs": [
    {
     "name": "stdout",
     "output_type": "stream",
     "text": [
      "+----------+\n",
      "|Total_Rows|\n",
      "+----------+\n",
      "|  12554677|\n",
      "+----------+\n",
      "\n"
     ]
    }
   ],
   "source": [
    "spark.sql(\n",
    "    \"\"\"\n",
    "    SELECT COUNT(*) Total_Rows\n",
    "    FROM web_database;\n",
    "    \"\"\"\n",
    ").show()"
   ]
  },
  {
   "cell_type": "markdown",
   "id": "273df15b-2ab2-42ba-901e-b49a3bc3f259",
   "metadata": {},
   "source": [
    "#### Read parquet with pandas"
   ]
  },
  {
   "cell_type": "code",
   "execution_count": 11,
   "id": "a7b23f16-039b-456b-b507-bdb76250a150",
   "metadata": {},
   "outputs": [],
   "source": [
    "df_parq= pd.read_parquet(\"data_sources/first_AWS_web_Crawl_partitioned/part-00000-e767fe13-c5f2-4f7f-b7f4-4730bb02c5d3-c000.snappy.parquet\")"
   ]
  },
  {
   "cell_type": "code",
   "execution_count": 12,
   "id": "bc56a97d-e994-4229-bba6-f72ede89ae3f",
   "metadata": {},
   "outputs": [
    {
     "data": {
      "text/plain": [
       "Index(['_c0', '_c1', '_c2', '_c3', '_c4', '_c5', '_c6', '_c7', '_c8', '_c9',\n",
       "       '_c10', '_c11', '_c12'],\n",
       "      dtype='object')"
      ]
     },
     "execution_count": 12,
     "metadata": {},
     "output_type": "execute_result"
    }
   ],
   "source": [
    "df_parq.columns"
   ]
  },
  {
   "cell_type": "code",
   "execution_count": 13,
   "id": "0d9d9f1f-cd77-4192-90ca-54a6ca3d2498",
   "metadata": {},
   "outputs": [
    {
     "data": {
      "text/plain": [
       "0         234\n",
       "1         247\n",
       "2          22\n",
       "3         229\n",
       "4         163\n",
       "         ... \n",
       "627732    app\n",
       "627733    app\n",
       "627734    app\n",
       "627735    app\n",
       "627736    app\n",
       "Name: _c0, Length: 627737, dtype: object"
      ]
     },
     "execution_count": 13,
     "metadata": {},
     "output_type": "execute_result"
    }
   ],
   "source": [
    "df_parq[\"_c0\"]"
   ]
  },
  {
   "cell_type": "code",
   "execution_count": 49,
   "id": "265fb477-2e41-4234-92d1-2ad43657def5",
   "metadata": {},
   "outputs": [
    {
     "data": {
      "text/html": [
       "<div>\n",
       "<style scoped>\n",
       "    .dataframe tbody tr th:only-of-type {\n",
       "        vertical-align: middle;\n",
       "    }\n",
       "\n",
       "    .dataframe tbody tr th {\n",
       "        vertical-align: top;\n",
       "    }\n",
       "\n",
       "    .dataframe thead th {\n",
       "        text-align: right;\n",
       "    }\n",
       "</style>\n",
       "<table border=\"1\" class=\"dataframe\">\n",
       "  <thead>\n",
       "    <tr style=\"text-align: right;\">\n",
       "      <th></th>\n",
       "      <th>_c0</th>\n",
       "      <th>_c1</th>\n",
       "      <th>_c2</th>\n",
       "      <th>_c3</th>\n",
       "      <th>_c4</th>\n",
       "      <th>_c5</th>\n",
       "      <th>_c6</th>\n",
       "      <th>_c7</th>\n",
       "      <th>_c8</th>\n",
       "      <th>_c9</th>\n",
       "      <th>_c10</th>\n",
       "      <th>_c11</th>\n",
       "      <th>_c12</th>\n",
       "    </tr>\n",
       "  </thead>\n",
       "  <tbody>\n",
       "    <tr>\n",
       "      <th>0</th>\n",
       "      <td>234</td>\n",
       "      <td>26</td>\n",
       "      <td>116</td>\n",
       "      <td>188)/ninjaqq 20231211145053 {\"url\": \"https://1...</td>\n",
       "      <td>\"mime\": \"warc/revisit\"</td>\n",
       "      <td>\"status\": \"304\"</td>\n",
       "      <td>\"length\": \"530\"</td>\n",
       "      <td>\"offset\": \"3746601\"</td>\n",
       "      <td>\"filename\": \"crawl-data/CC-MAIN-2023-50/segme...</td>\n",
       "      <td>None</td>\n",
       "      <td>None</td>\n",
       "      <td>None</td>\n",
       "      <td>None</td>\n",
       "    </tr>\n",
       "    <tr>\n",
       "      <th>1</th>\n",
       "      <td>247</td>\n",
       "      <td>175</td>\n",
       "      <td>1</td>\n",
       "      <td>3)/post/naga321-agen-mega-slot-99 202312100823...</td>\n",
       "      <td>\"mime\": \"text/html\"</td>\n",
       "      <td>\"mime-detected\": \"text/html\"</td>\n",
       "      <td>\"status\": \"200\"</td>\n",
       "      <td>\"digest\": \"WWYHNELFKRNADYS5VKQAO5LS2FNQNZMX\"</td>\n",
       "      <td>\"length\": \"18571\"</td>\n",
       "      <td>\"offset\": \"98699237\"</td>\n",
       "      <td>\"filename\": \"crawl-data/CC-MAIN-2023-50/segme...</td>\n",
       "      <td>\"charset\": \"UTF-8\"</td>\n",
       "      <td>\"languages\": \"ind</td>\n",
       "    </tr>\n",
       "  </tbody>\n",
       "</table>\n",
       "</div>"
      ],
      "text/plain": [
       "   _c0  _c1  _c2                                                _c3  \\\n",
       "0  234   26  116  188)/ninjaqq 20231211145053 {\"url\": \"https://1...   \n",
       "1  247  175    1  3)/post/naga321-agen-mega-slot-99 202312100823...   \n",
       "\n",
       "                       _c4                            _c5               _c6  \\\n",
       "0   \"mime\": \"warc/revisit\"                \"status\": \"304\"   \"length\": \"530\"   \n",
       "1      \"mime\": \"text/html\"   \"mime-detected\": \"text/html\"   \"status\": \"200\"   \n",
       "\n",
       "                                             _c7  \\\n",
       "0                            \"offset\": \"3746601\"   \n",
       "1   \"digest\": \"WWYHNELFKRNADYS5VKQAO5LS2FNQNZMX\"   \n",
       "\n",
       "                                                 _c8                    _c9  \\\n",
       "0   \"filename\": \"crawl-data/CC-MAIN-2023-50/segme...                   None   \n",
       "1                                  \"length\": \"18571\"   \"offset\": \"98699237\"   \n",
       "\n",
       "                                                _c10                 _c11  \\\n",
       "0                                               None                 None   \n",
       "1   \"filename\": \"crawl-data/CC-MAIN-2023-50/segme...   \"charset\": \"UTF-8\"   \n",
       "\n",
       "                 _c12  \n",
       "0                None  \n",
       "1   \"languages\": \"ind  "
      ]
     },
     "execution_count": 49,
     "metadata": {},
     "output_type": "execute_result"
    }
   ],
   "source": [
    "df_parq.head(2)"
   ]
  },
  {
   "cell_type": "markdown",
   "id": "1698ebdc-d4c7-4e3c-992b-e63ce9a22c90",
   "metadata": {},
   "source": [
    "#### Repartition the DataFrame\n",
    "- Repartioning the `SINGLE` data, so every executors can run the process without actually waiting for the first `Executor` to complete\n",
    "- File `SUCESS` will be included on the same directory after sucessful completion"
   ]
  },
  {
   "cell_type": "code",
   "execution_count": 42,
   "id": "b57dda02-7d2c-45ba-8593-ea4e4f6e99c3",
   "metadata": {},
   "outputs": [],
   "source": [
    "df_web.repartition(20)\\\n",
    "    .write.parquet(\"data_sources/first_AWS_web_Crawl_partitioned\", mode= \"overwrite\")"
   ]
  },
  {
   "cell_type": "markdown",
   "id": "97a6f17a-62d0-4239-a2d5-7763f2934064",
   "metadata": {},
   "source": [
    "#### Read the Partitioned parquet data"
   ]
  },
  {
   "cell_type": "code",
   "execution_count": 43,
   "id": "8a4cc24e-bf61-4b39-aaaf-d01dd565f35b",
   "metadata": {},
   "outputs": [],
   "source": [
    "df_web= spark.read.parquet(\"data_sources/first_AWS_web_Crawl_partitioned/\")"
   ]
  },
  {
   "cell_type": "code",
   "execution_count": 44,
   "id": "6c416d27-a0bc-443b-a76b-46480f5127fd",
   "metadata": {},
   "outputs": [
    {
     "name": "stdout",
     "output_type": "stream",
     "text": [
      "+---+---+---+--------------------+--------------------+--------------------+----------------+--------------------+----------------+-----------------+--------------------+----+----+\n",
      "|_c0|_c1|_c2|                 _c3|                 _c4|                 _c5|             _c6|                 _c7|             _c8|              _c9|                _c10|_c11|_c12|\n",
      "+---+---+---+--------------------+--------------------+--------------------+----------------+--------------------+----------------+-----------------+--------------------+----+----+\n",
      "|  2|205| 26|163)/robots.txt 2...| \"mime\": \"text/html\"| \"mime-detected\":...| \"status\": \"404\"| \"digest\": \"C3T3E...| \"length\": \"680\"| \"offset\": \"4892\"| \"filename\": \"cra...|NULL|NULL|\n",
      "+---+---+---+--------------------+--------------------+--------------------+----------------+--------------------+----------------+-----------------+--------------------+----+----+\n",
      "only showing top 1 row\n",
      "\n"
     ]
    }
   ],
   "source": [
    "df_web.show(1)"
   ]
  },
  {
   "cell_type": "code",
   "execution_count": 45,
   "id": "95d5f740-9528-472e-8ada-f1ba27c806d2",
   "metadata": {},
   "outputs": [
    {
     "name": "stdout",
     "output_type": "stream",
     "text": [
      "root\n",
      " |-- _c0: string (nullable = true)\n",
      " |-- _c1: string (nullable = true)\n",
      " |-- _c2: string (nullable = true)\n",
      " |-- _c3: string (nullable = true)\n",
      " |-- _c4: string (nullable = true)\n",
      " |-- _c5: string (nullable = true)\n",
      " |-- _c6: string (nullable = true)\n",
      " |-- _c7: string (nullable = true)\n",
      " |-- _c8: string (nullable = true)\n",
      " |-- _c9: string (nullable = true)\n",
      " |-- _c10: string (nullable = true)\n",
      " |-- _c11: string (nullable = true)\n",
      " |-- _c12: string (nullable = true)\n",
      "\n"
     ]
    }
   ],
   "source": [
    "df_web.printSchema()"
   ]
  },
  {
   "cell_type": "code",
   "execution_count": null,
   "id": "a19e068a-7983-479f-b0e4-869e65d94b9f",
   "metadata": {},
   "outputs": [],
   "source": [
    "df_web"
   ]
  },
  {
   "cell_type": "code",
   "execution_count": 53,
   "id": "6179f851-17f9-4ee0-a277-bc215066188b",
   "metadata": {},
   "outputs": [
    {
     "ename": "AnalysisException",
     "evalue": "[UNRESOLVED_COLUMN.WITHOUT_SUGGESTION] A column or function parameter with name `_c0` cannot be resolved. ; line 2 pos 11;\n'GlobalLimit 5\n+- 'LocalLimit 5\n   +- 'Project ['_c0, '_c1, 'FROM AS web_database#685]\n      +- OneRowRelation\n",
     "output_type": "error",
     "traceback": [
      "\u001b[0;31m---------------------------------------------------------------------------\u001b[0m",
      "\u001b[0;31mAnalysisException\u001b[0m                         Traceback (most recent call last)",
      "Cell \u001b[0;32mIn[53], line 1\u001b[0m\n\u001b[0;32m----> 1\u001b[0m \u001b[43mspark\u001b[49m\u001b[38;5;241;43m.\u001b[39;49m\u001b[43msql\u001b[49m\u001b[43m(\u001b[49m\n\u001b[1;32m      2\u001b[0m \u001b[38;5;250;43m    \u001b[39;49m\u001b[38;5;124;43;03m\"\"\"\u001b[39;49;00m\n\u001b[1;32m      3\u001b[0m \u001b[38;5;124;43;03m    SELECT _c0, _c1, \u001b[39;49;00m\n\u001b[1;32m      4\u001b[0m \u001b[38;5;124;43;03m    FROM web_database\u001b[39;49;00m\n\u001b[1;32m      5\u001b[0m \u001b[38;5;124;43;03m    LIMIT 5;\u001b[39;49;00m\n\u001b[1;32m      6\u001b[0m \u001b[38;5;124;43;03m    \"\"\"\u001b[39;49;00m\n\u001b[1;32m      7\u001b[0m \u001b[43m)\u001b[49m\u001b[38;5;241m.\u001b[39mshow()\n",
      "File \u001b[0;32m/usr/local/spark/python/pyspark/sql/session.py:1631\u001b[0m, in \u001b[0;36mSparkSession.sql\u001b[0;34m(self, sqlQuery, args, **kwargs)\u001b[0m\n\u001b[1;32m   1627\u001b[0m         \u001b[38;5;28;01massert\u001b[39;00m \u001b[38;5;28mself\u001b[39m\u001b[38;5;241m.\u001b[39m_jvm \u001b[38;5;129;01mis\u001b[39;00m \u001b[38;5;129;01mnot\u001b[39;00m \u001b[38;5;28;01mNone\u001b[39;00m\n\u001b[1;32m   1628\u001b[0m         litArgs \u001b[38;5;241m=\u001b[39m \u001b[38;5;28mself\u001b[39m\u001b[38;5;241m.\u001b[39m_jvm\u001b[38;5;241m.\u001b[39mPythonUtils\u001b[38;5;241m.\u001b[39mtoArray(\n\u001b[1;32m   1629\u001b[0m             [_to_java_column(lit(v)) \u001b[38;5;28;01mfor\u001b[39;00m v \u001b[38;5;129;01min\u001b[39;00m (args \u001b[38;5;129;01mor\u001b[39;00m [])]\n\u001b[1;32m   1630\u001b[0m         )\n\u001b[0;32m-> 1631\u001b[0m     \u001b[38;5;28;01mreturn\u001b[39;00m DataFrame(\u001b[38;5;28;43mself\u001b[39;49m\u001b[38;5;241;43m.\u001b[39;49m\u001b[43m_jsparkSession\u001b[49m\u001b[38;5;241;43m.\u001b[39;49m\u001b[43msql\u001b[49m\u001b[43m(\u001b[49m\u001b[43msqlQuery\u001b[49m\u001b[43m,\u001b[49m\u001b[43m \u001b[49m\u001b[43mlitArgs\u001b[49m\u001b[43m)\u001b[49m, \u001b[38;5;28mself\u001b[39m)\n\u001b[1;32m   1632\u001b[0m \u001b[38;5;28;01mfinally\u001b[39;00m:\n\u001b[1;32m   1633\u001b[0m     \u001b[38;5;28;01mif\u001b[39;00m \u001b[38;5;28mlen\u001b[39m(kwargs) \u001b[38;5;241m>\u001b[39m \u001b[38;5;241m0\u001b[39m:\n",
      "File \u001b[0;32m/usr/local/spark/python/lib/py4j-0.10.9.7-src.zip/py4j/java_gateway.py:1322\u001b[0m, in \u001b[0;36mJavaMember.__call__\u001b[0;34m(self, *args)\u001b[0m\n\u001b[1;32m   1316\u001b[0m command \u001b[38;5;241m=\u001b[39m proto\u001b[38;5;241m.\u001b[39mCALL_COMMAND_NAME \u001b[38;5;241m+\u001b[39m\\\n\u001b[1;32m   1317\u001b[0m     \u001b[38;5;28mself\u001b[39m\u001b[38;5;241m.\u001b[39mcommand_header \u001b[38;5;241m+\u001b[39m\\\n\u001b[1;32m   1318\u001b[0m     args_command \u001b[38;5;241m+\u001b[39m\\\n\u001b[1;32m   1319\u001b[0m     proto\u001b[38;5;241m.\u001b[39mEND_COMMAND_PART\n\u001b[1;32m   1321\u001b[0m answer \u001b[38;5;241m=\u001b[39m \u001b[38;5;28mself\u001b[39m\u001b[38;5;241m.\u001b[39mgateway_client\u001b[38;5;241m.\u001b[39msend_command(command)\n\u001b[0;32m-> 1322\u001b[0m return_value \u001b[38;5;241m=\u001b[39m \u001b[43mget_return_value\u001b[49m\u001b[43m(\u001b[49m\n\u001b[1;32m   1323\u001b[0m \u001b[43m    \u001b[49m\u001b[43manswer\u001b[49m\u001b[43m,\u001b[49m\u001b[43m \u001b[49m\u001b[38;5;28;43mself\u001b[39;49m\u001b[38;5;241;43m.\u001b[39;49m\u001b[43mgateway_client\u001b[49m\u001b[43m,\u001b[49m\u001b[43m \u001b[49m\u001b[38;5;28;43mself\u001b[39;49m\u001b[38;5;241;43m.\u001b[39;49m\u001b[43mtarget_id\u001b[49m\u001b[43m,\u001b[49m\u001b[43m \u001b[49m\u001b[38;5;28;43mself\u001b[39;49m\u001b[38;5;241;43m.\u001b[39;49m\u001b[43mname\u001b[49m\u001b[43m)\u001b[49m\n\u001b[1;32m   1325\u001b[0m \u001b[38;5;28;01mfor\u001b[39;00m temp_arg \u001b[38;5;129;01min\u001b[39;00m temp_args:\n\u001b[1;32m   1326\u001b[0m     \u001b[38;5;28;01mif\u001b[39;00m \u001b[38;5;28mhasattr\u001b[39m(temp_arg, \u001b[38;5;124m\"\u001b[39m\u001b[38;5;124m_detach\u001b[39m\u001b[38;5;124m\"\u001b[39m):\n",
      "File \u001b[0;32m/usr/local/spark/python/pyspark/errors/exceptions/captured.py:185\u001b[0m, in \u001b[0;36mcapture_sql_exception.<locals>.deco\u001b[0;34m(*a, **kw)\u001b[0m\n\u001b[1;32m    181\u001b[0m converted \u001b[38;5;241m=\u001b[39m convert_exception(e\u001b[38;5;241m.\u001b[39mjava_exception)\n\u001b[1;32m    182\u001b[0m \u001b[38;5;28;01mif\u001b[39;00m \u001b[38;5;129;01mnot\u001b[39;00m \u001b[38;5;28misinstance\u001b[39m(converted, UnknownException):\n\u001b[1;32m    183\u001b[0m     \u001b[38;5;66;03m# Hide where the exception came from that shows a non-Pythonic\u001b[39;00m\n\u001b[1;32m    184\u001b[0m     \u001b[38;5;66;03m# JVM exception message.\u001b[39;00m\n\u001b[0;32m--> 185\u001b[0m     \u001b[38;5;28;01mraise\u001b[39;00m converted \u001b[38;5;28;01mfrom\u001b[39;00m \u001b[38;5;28;01mNone\u001b[39;00m\n\u001b[1;32m    186\u001b[0m \u001b[38;5;28;01melse\u001b[39;00m:\n\u001b[1;32m    187\u001b[0m     \u001b[38;5;28;01mraise\u001b[39;00m\n",
      "\u001b[0;31mAnalysisException\u001b[0m: [UNRESOLVED_COLUMN.WITHOUT_SUGGESTION] A column or function parameter with name `_c0` cannot be resolved. ; line 2 pos 11;\n'GlobalLimit 5\n+- 'LocalLimit 5\n   +- 'Project ['_c0, '_c1, 'FROM AS web_database#685]\n      +- OneRowRelation\n"
     ]
    }
   ],
   "source": [
    "spark.sql(\n",
    "    \"\"\"\n",
    "    SELECT _c0, _c1, \n",
    "    FROM web_database\n",
    "    LIMIT 5;\n",
    "    \"\"\"\n",
    ").show()"
   ]
  },
  {
   "cell_type": "code",
   "execution_count": null,
   "id": "ed749913-afd0-4afb-aa3f-16447d3bff2f",
   "metadata": {},
   "outputs": [],
   "source": []
  }
 ],
 "metadata": {
  "kernelspec": {
   "display_name": "Python 3 (ipykernel)",
   "language": "python",
   "name": "python3"
  },
  "language_info": {
   "codemirror_mode": {
    "name": "ipython",
    "version": 3
   },
   "file_extension": ".py",
   "mimetype": "text/x-python",
   "name": "python",
   "nbconvert_exporter": "python",
   "pygments_lexer": "ipython3",
   "version": "3.11.5"
  }
 },
 "nbformat": 4,
 "nbformat_minor": 5
}
